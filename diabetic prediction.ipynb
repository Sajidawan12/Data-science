{
 "cells": [
  {
   "cell_type": "code",
   "execution_count": 154,
   "id": "41e08c49",
   "metadata": {},
   "outputs": [],
   "source": [
    "import pandas as pd\n",
    "import numpy as np\n",
    "from sklearn.model_selection import train_test_split\n",
    "from sklearn.linear_model import LogisticRegression\n",
    "from sklearn.metrics import mean_squared_error\n",
    "from sklearn.metrics import classification_report, confusion_matrix\n",
    "from sklearn.neighbors import KNeighborsClassifier\n",
    "import matplotlib.pyplot as plt\n",
    "import seaborn as sns\n",
    "from sklearn.preprocessing import StandardScaler\n",
    "import itertools\n",
    "from statsmodels.stats.outliers_influence import variance_inflation_factor\n",
    "from sklearn import metrics\n",
    "from sklearn.metrics import f1_score"
   ]
  },
  {
   "cell_type": "code",
   "execution_count": 71,
   "id": "48fbe4d9",
   "metadata": {},
   "outputs": [
    {
     "data": {
      "text/html": [
       "<div>\n",
       "<style scoped>\n",
       "    .dataframe tbody tr th:only-of-type {\n",
       "        vertical-align: middle;\n",
       "    }\n",
       "\n",
       "    .dataframe tbody tr th {\n",
       "        vertical-align: top;\n",
       "    }\n",
       "\n",
       "    .dataframe thead th {\n",
       "        text-align: right;\n",
       "    }\n",
       "</style>\n",
       "<table border=\"1\" class=\"dataframe\">\n",
       "  <thead>\n",
       "    <tr style=\"text-align: right;\">\n",
       "      <th></th>\n",
       "      <th>Pregnancies</th>\n",
       "      <th>Glucose</th>\n",
       "      <th>BloodPressure</th>\n",
       "      <th>SkinThickness</th>\n",
       "      <th>Insulin</th>\n",
       "      <th>BMI</th>\n",
       "      <th>DiabetesPedigreeFunction</th>\n",
       "      <th>Age</th>\n",
       "      <th>Outcome</th>\n",
       "    </tr>\n",
       "  </thead>\n",
       "  <tbody>\n",
       "    <tr>\n",
       "      <th>0</th>\n",
       "      <td>6</td>\n",
       "      <td>148</td>\n",
       "      <td>72</td>\n",
       "      <td>35</td>\n",
       "      <td>0</td>\n",
       "      <td>33.6</td>\n",
       "      <td>0.627</td>\n",
       "      <td>50</td>\n",
       "      <td>1</td>\n",
       "    </tr>\n",
       "    <tr>\n",
       "      <th>1</th>\n",
       "      <td>1</td>\n",
       "      <td>85</td>\n",
       "      <td>66</td>\n",
       "      <td>29</td>\n",
       "      <td>0</td>\n",
       "      <td>26.6</td>\n",
       "      <td>0.351</td>\n",
       "      <td>31</td>\n",
       "      <td>0</td>\n",
       "    </tr>\n",
       "    <tr>\n",
       "      <th>2</th>\n",
       "      <td>8</td>\n",
       "      <td>183</td>\n",
       "      <td>64</td>\n",
       "      <td>0</td>\n",
       "      <td>0</td>\n",
       "      <td>23.3</td>\n",
       "      <td>0.672</td>\n",
       "      <td>32</td>\n",
       "      <td>1</td>\n",
       "    </tr>\n",
       "    <tr>\n",
       "      <th>3</th>\n",
       "      <td>1</td>\n",
       "      <td>89</td>\n",
       "      <td>66</td>\n",
       "      <td>23</td>\n",
       "      <td>94</td>\n",
       "      <td>28.1</td>\n",
       "      <td>0.167</td>\n",
       "      <td>21</td>\n",
       "      <td>0</td>\n",
       "    </tr>\n",
       "    <tr>\n",
       "      <th>4</th>\n",
       "      <td>0</td>\n",
       "      <td>137</td>\n",
       "      <td>40</td>\n",
       "      <td>35</td>\n",
       "      <td>168</td>\n",
       "      <td>43.1</td>\n",
       "      <td>2.288</td>\n",
       "      <td>33</td>\n",
       "      <td>1</td>\n",
       "    </tr>\n",
       "    <tr>\n",
       "      <th>...</th>\n",
       "      <td>...</td>\n",
       "      <td>...</td>\n",
       "      <td>...</td>\n",
       "      <td>...</td>\n",
       "      <td>...</td>\n",
       "      <td>...</td>\n",
       "      <td>...</td>\n",
       "      <td>...</td>\n",
       "      <td>...</td>\n",
       "    </tr>\n",
       "    <tr>\n",
       "      <th>763</th>\n",
       "      <td>10</td>\n",
       "      <td>101</td>\n",
       "      <td>76</td>\n",
       "      <td>48</td>\n",
       "      <td>180</td>\n",
       "      <td>32.9</td>\n",
       "      <td>0.171</td>\n",
       "      <td>63</td>\n",
       "      <td>0</td>\n",
       "    </tr>\n",
       "    <tr>\n",
       "      <th>764</th>\n",
       "      <td>2</td>\n",
       "      <td>122</td>\n",
       "      <td>70</td>\n",
       "      <td>27</td>\n",
       "      <td>0</td>\n",
       "      <td>36.8</td>\n",
       "      <td>0.340</td>\n",
       "      <td>27</td>\n",
       "      <td>0</td>\n",
       "    </tr>\n",
       "    <tr>\n",
       "      <th>765</th>\n",
       "      <td>5</td>\n",
       "      <td>121</td>\n",
       "      <td>72</td>\n",
       "      <td>23</td>\n",
       "      <td>112</td>\n",
       "      <td>26.2</td>\n",
       "      <td>0.245</td>\n",
       "      <td>30</td>\n",
       "      <td>0</td>\n",
       "    </tr>\n",
       "    <tr>\n",
       "      <th>766</th>\n",
       "      <td>1</td>\n",
       "      <td>126</td>\n",
       "      <td>60</td>\n",
       "      <td>0</td>\n",
       "      <td>0</td>\n",
       "      <td>30.1</td>\n",
       "      <td>0.349</td>\n",
       "      <td>47</td>\n",
       "      <td>1</td>\n",
       "    </tr>\n",
       "    <tr>\n",
       "      <th>767</th>\n",
       "      <td>1</td>\n",
       "      <td>93</td>\n",
       "      <td>70</td>\n",
       "      <td>31</td>\n",
       "      <td>0</td>\n",
       "      <td>30.4</td>\n",
       "      <td>0.315</td>\n",
       "      <td>23</td>\n",
       "      <td>0</td>\n",
       "    </tr>\n",
       "  </tbody>\n",
       "</table>\n",
       "<p>768 rows × 9 columns</p>\n",
       "</div>"
      ],
      "text/plain": [
       "     Pregnancies  Glucose  BloodPressure  SkinThickness  Insulin   BMI  \\\n",
       "0              6      148             72             35        0  33.6   \n",
       "1              1       85             66             29        0  26.6   \n",
       "2              8      183             64              0        0  23.3   \n",
       "3              1       89             66             23       94  28.1   \n",
       "4              0      137             40             35      168  43.1   \n",
       "..           ...      ...            ...            ...      ...   ...   \n",
       "763           10      101             76             48      180  32.9   \n",
       "764            2      122             70             27        0  36.8   \n",
       "765            5      121             72             23      112  26.2   \n",
       "766            1      126             60              0        0  30.1   \n",
       "767            1       93             70             31        0  30.4   \n",
       "\n",
       "     DiabetesPedigreeFunction  Age  Outcome  \n",
       "0                       0.627   50        1  \n",
       "1                       0.351   31        0  \n",
       "2                       0.672   32        1  \n",
       "3                       0.167   21        0  \n",
       "4                       2.288   33        1  \n",
       "..                        ...  ...      ...  \n",
       "763                     0.171   63        0  \n",
       "764                     0.340   27        0  \n",
       "765                     0.245   30        0  \n",
       "766                     0.349   47        1  \n",
       "767                     0.315   23        0  \n",
       "\n",
       "[768 rows x 9 columns]"
      ]
     },
     "execution_count": 71,
     "metadata": {},
     "output_type": "execute_result"
    }
   ],
   "source": [
    "data = pd.read_csv('diabetes.csv')\n",
    "data\n",
    "# 1 means person has diabetes"
   ]
  },
  {
   "cell_type": "code",
   "execution_count": null,
   "id": "053f90a3",
   "metadata": {},
   "outputs": [],
   "source": []
  },
  {
   "cell_type": "markdown",
   "id": "124ac8a7",
   "metadata": {},
   "source": [
    "# data preprocessing"
   ]
  },
  {
   "cell_type": "code",
   "execution_count": 72,
   "id": "59674226",
   "metadata": {},
   "outputs": [
    {
     "data": {
      "text/plain": [
       "Pregnancies                 False\n",
       "Glucose                     False\n",
       "BloodPressure               False\n",
       "SkinThickness               False\n",
       "Insulin                     False\n",
       "BMI                         False\n",
       "DiabetesPedigreeFunction    False\n",
       "Age                         False\n",
       "Outcome                     False\n",
       "dtype: bool"
      ]
     },
     "execution_count": 72,
     "metadata": {},
     "output_type": "execute_result"
    }
   ],
   "source": [
    "data.isnull().any()"
   ]
  },
  {
   "cell_type": "code",
   "execution_count": 73,
   "id": "9c939c64",
   "metadata": {},
   "outputs": [
    {
     "data": {
      "text/plain": [
       "<AxesSubplot:xlabel='Outcome', ylabel='count'>"
      ]
     },
     "execution_count": 73,
     "metadata": {},
     "output_type": "execute_result"
    },
    {
     "data": {
      "image/png": "[encoded data removed]",
      "text/plain": [
       "<Figure size 432x288 with 1 Axes>"
      ]
     },
     "metadata": {
      "needs_background": "light"
     },
     "output_type": "display_data"
    }
   ],
   "source": [
    "sns.countplot(x = 'Outcome',data=data)"
   ]
  },
  {
   "cell_type": "code",
   "execution_count": 74,
   "id": "e0def171",
   "metadata": {},
   "outputs": [
    {
     "data": {
      "text/plain": [
       "0    500\n",
       "1    268\n",
       "Name: Outcome, dtype: int64"
      ]
     },
     "execution_count": 74,
     "metadata": {},
     "output_type": "execute_result"
    }
   ],
   "source": [
    "pd.value_counts(data['Outcome'])"
   ]
  },
  {
   "cell_type": "code",
   "execution_count": 75,
   "id": "09e14f07",
   "metadata": {},
   "outputs": [
    {
     "data": {
      "text/html": [
       "<div>\n",
       "<style scoped>\n",
       "    .dataframe tbody tr th:only-of-type {\n",
       "        vertical-align: middle;\n",
       "    }\n",
       "\n",
       "    .dataframe tbody tr th {\n",
       "        vertical-align: top;\n",
       "    }\n",
       "\n",
       "    .dataframe thead th {\n",
       "        text-align: right;\n",
       "    }\n",
       "</style>\n",
       "<table border=\"1\" class=\"dataframe\">\n",
       "  <thead>\n",
       "    <tr style=\"text-align: right;\">\n",
       "      <th></th>\n",
       "      <th>Insulin</th>\n",
       "      <th>Outcome</th>\n",
       "    </tr>\n",
       "  </thead>\n",
       "  <tbody>\n",
       "    <tr>\n",
       "      <th>0</th>\n",
       "      <td>0</td>\n",
       "      <td>138</td>\n",
       "    </tr>\n",
       "    <tr>\n",
       "      <th>1</th>\n",
       "      <td>14</td>\n",
       "      <td>1</td>\n",
       "    </tr>\n",
       "    <tr>\n",
       "      <th>2</th>\n",
       "      <td>15</td>\n",
       "      <td>0</td>\n",
       "    </tr>\n",
       "    <tr>\n",
       "      <th>3</th>\n",
       "      <td>16</td>\n",
       "      <td>0</td>\n",
       "    </tr>\n",
       "    <tr>\n",
       "      <th>4</th>\n",
       "      <td>18</td>\n",
       "      <td>0</td>\n",
       "    </tr>\n",
       "    <tr>\n",
       "      <th>...</th>\n",
       "      <td>...</td>\n",
       "      <td>...</td>\n",
       "    </tr>\n",
       "    <tr>\n",
       "      <th>181</th>\n",
       "      <td>579</td>\n",
       "      <td>1</td>\n",
       "    </tr>\n",
       "    <tr>\n",
       "      <th>182</th>\n",
       "      <td>600</td>\n",
       "      <td>1</td>\n",
       "    </tr>\n",
       "    <tr>\n",
       "      <th>183</th>\n",
       "      <td>680</td>\n",
       "      <td>0</td>\n",
       "    </tr>\n",
       "    <tr>\n",
       "      <th>184</th>\n",
       "      <td>744</td>\n",
       "      <td>0</td>\n",
       "    </tr>\n",
       "    <tr>\n",
       "      <th>185</th>\n",
       "      <td>846</td>\n",
       "      <td>1</td>\n",
       "    </tr>\n",
       "  </tbody>\n",
       "</table>\n",
       "<p>186 rows × 2 columns</p>\n",
       "</div>"
      ],
      "text/plain": [
       "     Insulin  Outcome\n",
       "0          0      138\n",
       "1         14        1\n",
       "2         15        0\n",
       "3         16        0\n",
       "4         18        0\n",
       "..       ...      ...\n",
       "181      579        1\n",
       "182      600        1\n",
       "183      680        0\n",
       "184      744        0\n",
       "185      846        1\n",
       "\n",
       "[186 rows x 2 columns]"
      ]
     },
     "execution_count": 75,
     "metadata": {},
     "output_type": "execute_result"
    }
   ],
   "source": [
    "data.groupby('Insulin')['Outcome'].sum().reset_index()"
   ]
  },
  {
   "cell_type": "code",
   "execution_count": 76,
   "id": "2b7ddc10",
   "metadata": {},
   "outputs": [],
   "source": [
    "# checking variance\n",
    "\n",
    "variables = data[['Pregnancies', 'Glucose', 'BloodPressure', 'SkinThickness', 'Insulin', 'BMI', 'DiabetesPedigreeFunction', 'Age']]\n",
    "vif = pd.DataFrame()\n",
    "vif['VIF'] = [variance_inflation_factor(variables.values,i) for i in range(variables.shape[1])]\n",
    "# variables\n",
    "vif['features'] = variables.columns"
   ]
  },
  {
   "cell_type": "code",
   "execution_count": 77,
   "id": "a09bf300",
   "metadata": {},
   "outputs": [
    {
     "data": {
      "text/html": [
       "<div>\n",
       "<style scoped>\n",
       "    .dataframe tbody tr th:only-of-type {\n",
       "        vertical-align: middle;\n",
       "    }\n",
       "\n",
       "    .dataframe tbody tr th {\n",
       "        vertical-align: top;\n",
       "    }\n",
       "\n",
       "    .dataframe thead th {\n",
       "        text-align: right;\n",
       "    }\n",
       "</style>\n",
       "<table border=\"1\" class=\"dataframe\">\n",
       "  <thead>\n",
       "    <tr style=\"text-align: right;\">\n",
       "      <th></th>\n",
       "      <th>VIF</th>\n",
       "      <th>features</th>\n",
       "    </tr>\n",
       "  </thead>\n",
       "  <tbody>\n",
       "    <tr>\n",
       "      <th>0</th>\n",
       "      <td>3.275748</td>\n",
       "      <td>Pregnancies</td>\n",
       "    </tr>\n",
       "    <tr>\n",
       "      <th>1</th>\n",
       "      <td>16.725078</td>\n",
       "      <td>Glucose</td>\n",
       "    </tr>\n",
       "    <tr>\n",
       "      <th>2</th>\n",
       "      <td>14.619512</td>\n",
       "      <td>BloodPressure</td>\n",
       "    </tr>\n",
       "    <tr>\n",
       "      <th>3</th>\n",
       "      <td>4.008696</td>\n",
       "      <td>SkinThickness</td>\n",
       "    </tr>\n",
       "    <tr>\n",
       "      <th>4</th>\n",
       "      <td>2.063689</td>\n",
       "      <td>Insulin</td>\n",
       "    </tr>\n",
       "    <tr>\n",
       "      <th>5</th>\n",
       "      <td>18.408884</td>\n",
       "      <td>BMI</td>\n",
       "    </tr>\n",
       "    <tr>\n",
       "      <th>6</th>\n",
       "      <td>3.195626</td>\n",
       "      <td>DiabetesPedigreeFunction</td>\n",
       "    </tr>\n",
       "    <tr>\n",
       "      <th>7</th>\n",
       "      <td>13.492985</td>\n",
       "      <td>Age</td>\n",
       "    </tr>\n",
       "  </tbody>\n",
       "</table>\n",
       "</div>"
      ],
      "text/plain": [
       "         VIF                  features\n",
       "0   3.275748               Pregnancies\n",
       "1  16.725078                   Glucose\n",
       "2  14.619512             BloodPressure\n",
       "3   4.008696             SkinThickness\n",
       "4   2.063689                   Insulin\n",
       "5  18.408884                       BMI\n",
       "6   3.195626  DiabetesPedigreeFunction\n",
       "7  13.492985                       Age"
      ]
     },
     "execution_count": 77,
     "metadata": {},
     "output_type": "execute_result"
    }
   ],
   "source": [
    "vif"
   ]
  },
  {
   "cell_type": "code",
   "execution_count": 78,
   "id": "d07cd8d3",
   "metadata": {},
   "outputs": [],
   "source": [
    "data = data.drop(['Glucose','BloodPressure','BMI','Age'], axis=1)"
   ]
  },
  {
   "cell_type": "code",
   "execution_count": 79,
   "id": "8a157232",
   "metadata": {},
   "outputs": [
    {
     "data": {
      "text/plain": [
       "17"
      ]
     },
     "execution_count": 79,
     "metadata": {},
     "output_type": "execute_result"
    }
   ],
   "source": [
    "data['Pregnancies'].max()"
   ]
  },
  {
   "cell_type": "markdown",
   "id": "2faa90b8",
   "metadata": {},
   "source": [
    "# outlier\n",
    "- > finding outliers in all features that are selected for trainging purpose"
   ]
  },
  {
   "cell_type": "code",
   "execution_count": 179,
   "id": "a5c1db34",
   "metadata": {
    "scrolled": true
   },
   "outputs": [
    {
     "ename": "KeyError",
     "evalue": "'Pregnancies'",
     "output_type": "error",
     "traceback": [
      "\u001b[1;31m---------------------------------------------------------------------------\u001b[0m",
      "\u001b[1;31mKeyError\u001b[0m                                  Traceback (most recent call last)",
      "Input \u001b[1;32mIn [179]\u001b[0m, in \u001b[0;36m<cell line: 1>\u001b[1;34m()\u001b[0m\n\u001b[1;32m----> 1\u001b[0m sns\u001b[38;5;241m.\u001b[39mboxplot(x \u001b[38;5;241m=\u001b[39m \u001b[43mdata\u001b[49m\u001b[43m[\u001b[49m\u001b[38;5;124;43m'\u001b[39;49m\u001b[38;5;124;43mPregnancies\u001b[39;49m\u001b[38;5;124;43m'\u001b[39;49m\u001b[43m]\u001b[49m)\n",
      "\u001b[1;31mKeyError\u001b[0m: 'Pregnancies'"
     ]
    }
   ],
   "source": [
    "# pregrnancy outlier\n",
    "sns.boxplot(x = data['Pregnancies'])"
   ]
  },
  {
   "cell_type": "code",
   "execution_count": 85,
   "id": "7484255a",
   "metadata": {},
   "outputs": [],
   "source": [
    "# outlier removing the mean value of pregnancy\n",
    "outliers_removed = [x for x in data['Pregnancies'] if x >= 12.5 and x <= 17.5]\n",
    "for i in data['Pregnancies']:\n",
    "  if i in set(outliers_removed):\n",
    "    data['Pregnancies'] = data['Pregnancies'].replace(i,data['Pregnancies'].mean())     "
   ]
  },
  {
   "cell_type": "code",
   "execution_count": 180,
   "id": "c247ef24",
   "metadata": {},
   "outputs": [
    {
     "ename": "KeyError",
     "evalue": "'SkinThickness'",
     "output_type": "error",
     "traceback": [
      "\u001b[1;31m---------------------------------------------------------------------------\u001b[0m",
      "\u001b[1;31mKeyError\u001b[0m                                  Traceback (most recent call last)",
      "Input \u001b[1;32mIn [180]\u001b[0m, in \u001b[0;36m<cell line: 2>\u001b[1;34m()\u001b[0m\n\u001b[0;32m      1\u001b[0m \u001b[38;5;66;03m# outlier in skinthickness\u001b[39;00m\n\u001b[1;32m----> 2\u001b[0m sns\u001b[38;5;241m.\u001b[39mboxplot(x\u001b[38;5;241m=\u001b[39m\u001b[43mdata\u001b[49m\u001b[43m[\u001b[49m\u001b[38;5;124;43m'\u001b[39;49m\u001b[38;5;124;43mSkinThickness\u001b[39;49m\u001b[38;5;124;43m'\u001b[39;49m\u001b[43m]\u001b[49m)\n",
      "\u001b[1;31mKeyError\u001b[0m: 'SkinThickness'"
     ]
    }
   ],
   "source": [
    "# outlier in skinthickness\n",
    "sns.boxplot(x=data['SkinThickness'])"
   ]
  },
  {
   "cell_type": "code",
   "execution_count": 91,
   "id": "d70d0b1e",
   "metadata": {},
   "outputs": [],
   "source": [
    "# outlier removing with mean value of skinthickness\n",
    "outlier_removed = [x for x in data['SkinThickness'] if x>=60 and x<=100]\n",
    "for i in data['SkinThickness']:\n",
    "    if i in outlier_removed:\n",
    "        data['SkinThickness'] = data['SkinThickness'].replace(i, data['SkinThickness'].mean())"
   ]
  },
  {
   "cell_type": "code",
   "execution_count": 92,
   "id": "b7953152",
   "metadata": {},
   "outputs": [
    {
     "data": {
      "text/plain": [
       "<AxesSubplot:xlabel='Insulin'>"
      ]
     },
     "execution_count": 92,
     "metadata": {},
     "output_type": "execute_result"
    },
    {
     "data": {
      "image/png": "[encoded data removed]",
      "text/plain": [
       "<Figure size 432x288 with 1 Axes>"
      ]
     },
     "metadata": {
      "needs_background": "light"
     },
     "output_type": "display_data"
    }
   ],
   "source": [
    "# outlier for insulin\n",
    "sns.boxplot(x = data['Insulin'])"
   ]
  },
  {
   "cell_type": "code",
   "execution_count": 93,
   "id": "633c11a0",
   "metadata": {},
   "outputs": [],
   "source": [
    "# outlier removing from insuling and replacing with mean value of insulin\n",
    "outlier_removed = [x for x in data['Insulin'] if x>=250 and x<=850]\n",
    "for i in data['Insulin']:\n",
    "    if i in outlier_removed:\n",
    "        data['Insulin'] = data['Insulin'].replace(i, data['Insulin'].mean())"
   ]
  },
  {
   "cell_type": "code",
   "execution_count": 94,
   "id": "2c138a38",
   "metadata": {},
   "outputs": [
    {
     "data": {
      "text/plain": [
       "<AxesSubplot:xlabel='DiabetesPedigreeFunction'>"
      ]
     },
     "execution_count": 94,
     "metadata": {},
     "output_type": "execute_result"
    },
    {
     "data": {
      "image/png": "[encoded data removed]",
      "text/plain": [
       "<Figure size 432x288 with 1 Axes>"
      ]
     },
     "metadata": {
      "needs_background": "light"
     },
     "output_type": "display_data"
    }
   ],
   "source": [
    "# outlier in DiabetesPedigreeFunction\n",
    "# DiabetesPedigreeFunction: Its about type-1 diabetes which comes form genes\n",
    "\n",
    "sns.boxplot(x = data['DiabetesPedigreeFunction'])"
   ]
  },
  {
   "cell_type": "code",
   "execution_count": 96,
   "id": "edba403a",
   "metadata": {},
   "outputs": [],
   "source": [
    "# outlier removing from DiabetesPedigreeFunction and replacing with the mean value of it\n",
    "outlier_removed = [x for x in data['DiabetesPedigreeFunction'] if x>=1.2 and x<=2.5]\n",
    "for i in data['DiabetesPedigreeFunction']:\n",
    "    if i in outlier_removed:\n",
    "        data['DiabetesPedigreeFunction']= data['DiabetesPedigreeFunction'].replace(i, data['DiabetesPedigreeFunction'].mean())"
   ]
  },
  {
   "cell_type": "code",
   "execution_count": 97,
   "id": "5a1d5290",
   "metadata": {},
   "outputs": [
    {
     "data": {
      "text/html": [
       "<div>\n",
       "<style scoped>\n",
       "    .dataframe tbody tr th:only-of-type {\n",
       "        vertical-align: middle;\n",
       "    }\n",
       "\n",
       "    .dataframe tbody tr th {\n",
       "        vertical-align: top;\n",
       "    }\n",
       "\n",
       "    .dataframe thead th {\n",
       "        text-align: right;\n",
       "    }\n",
       "</style>\n",
       "<table border=\"1\" class=\"dataframe\">\n",
       "  <thead>\n",
       "    <tr style=\"text-align: right;\">\n",
       "      <th></th>\n",
       "      <th>Pregnancies</th>\n",
       "      <th>SkinThickness</th>\n",
       "      <th>Insulin</th>\n",
       "      <th>DiabetesPedigreeFunction</th>\n",
       "      <th>Outcome</th>\n",
       "    </tr>\n",
       "  </thead>\n",
       "  <tbody>\n",
       "    <tr>\n",
       "      <th>0</th>\n",
       "      <td>6.0</td>\n",
       "      <td>35.0</td>\n",
       "      <td>0.0</td>\n",
       "      <td>0.627000</td>\n",
       "      <td>1</td>\n",
       "    </tr>\n",
       "    <tr>\n",
       "      <th>1</th>\n",
       "      <td>1.0</td>\n",
       "      <td>29.0</td>\n",
       "      <td>0.0</td>\n",
       "      <td>0.351000</td>\n",
       "      <td>0</td>\n",
       "    </tr>\n",
       "    <tr>\n",
       "      <th>2</th>\n",
       "      <td>8.0</td>\n",
       "      <td>0.0</td>\n",
       "      <td>0.0</td>\n",
       "      <td>0.672000</td>\n",
       "      <td>1</td>\n",
       "    </tr>\n",
       "    <tr>\n",
       "      <th>3</th>\n",
       "      <td>1.0</td>\n",
       "      <td>23.0</td>\n",
       "      <td>94.0</td>\n",
       "      <td>0.167000</td>\n",
       "      <td>0</td>\n",
       "    </tr>\n",
       "    <tr>\n",
       "      <th>4</th>\n",
       "      <td>0.0</td>\n",
       "      <td>35.0</td>\n",
       "      <td>168.0</td>\n",
       "      <td>0.471876</td>\n",
       "      <td>1</td>\n",
       "    </tr>\n",
       "    <tr>\n",
       "      <th>...</th>\n",
       "      <td>...</td>\n",
       "      <td>...</td>\n",
       "      <td>...</td>\n",
       "      <td>...</td>\n",
       "      <td>...</td>\n",
       "    </tr>\n",
       "    <tr>\n",
       "      <th>763</th>\n",
       "      <td>10.0</td>\n",
       "      <td>48.0</td>\n",
       "      <td>180.0</td>\n",
       "      <td>0.171000</td>\n",
       "      <td>0</td>\n",
       "    </tr>\n",
       "    <tr>\n",
       "      <th>764</th>\n",
       "      <td>2.0</td>\n",
       "      <td>27.0</td>\n",
       "      <td>0.0</td>\n",
       "      <td>0.340000</td>\n",
       "      <td>0</td>\n",
       "    </tr>\n",
       "    <tr>\n",
       "      <th>765</th>\n",
       "      <td>5.0</td>\n",
       "      <td>23.0</td>\n",
       "      <td>112.0</td>\n",
       "      <td>0.245000</td>\n",
       "      <td>0</td>\n",
       "    </tr>\n",
       "    <tr>\n",
       "      <th>766</th>\n",
       "      <td>1.0</td>\n",
       "      <td>0.0</td>\n",
       "      <td>0.0</td>\n",
       "      <td>0.349000</td>\n",
       "      <td>1</td>\n",
       "    </tr>\n",
       "    <tr>\n",
       "      <th>767</th>\n",
       "      <td>1.0</td>\n",
       "      <td>31.0</td>\n",
       "      <td>0.0</td>\n",
       "      <td>0.315000</td>\n",
       "      <td>0</td>\n",
       "    </tr>\n",
       "  </tbody>\n",
       "</table>\n",
       "<p>768 rows × 5 columns</p>\n",
       "</div>"
      ],
      "text/plain": [
       "     Pregnancies  SkinThickness  Insulin  DiabetesPedigreeFunction  Outcome\n",
       "0            6.0           35.0      0.0                  0.627000        1\n",
       "1            1.0           29.0      0.0                  0.351000        0\n",
       "2            8.0            0.0      0.0                  0.672000        1\n",
       "3            1.0           23.0     94.0                  0.167000        0\n",
       "4            0.0           35.0    168.0                  0.471876        1\n",
       "..           ...            ...      ...                       ...      ...\n",
       "763         10.0           48.0    180.0                  0.171000        0\n",
       "764          2.0           27.0      0.0                  0.340000        0\n",
       "765          5.0           23.0    112.0                  0.245000        0\n",
       "766          1.0            0.0      0.0                  0.349000        1\n",
       "767          1.0           31.0      0.0                  0.315000        0\n",
       "\n",
       "[768 rows x 5 columns]"
      ]
     },
     "execution_count": 97,
     "metadata": {},
     "output_type": "execute_result"
    }
   ],
   "source": [
    "# updated data without outlier\n",
    "data"
   ]
  },
  {
   "cell_type": "code",
   "execution_count": 99,
   "id": "4a5c99b9",
   "metadata": {},
   "outputs": [
    {
     "data": {
      "text/plain": [
       "Pregnancies                 0.745142\n",
       "SkinThickness              -0.057290\n",
       "Insulin                     0.931583\n",
       "DiabetesPedigreeFunction    0.922289\n",
       "Outcome                     0.635017\n",
       "dtype: float64"
      ]
     },
     "execution_count": 99,
     "metadata": {},
     "output_type": "execute_result"
    }
   ],
   "source": [
    "data.skew(axis = 0, skipna=True)"
   ]
  },
  {
   "cell_type": "code",
   "execution_count": 101,
   "id": "c6974969",
   "metadata": {},
   "outputs": [
    {
     "data": {
      "text/plain": [
       "<AxesSubplot:>"
      ]
     },
     "execution_count": 101,
     "metadata": {},
     "output_type": "execute_result"
    },
    {
     "data": {
      "image/png": "[encoded data removed]",
      "text/plain": [
       "<Figure size 432x288 with 2 Axes>"
      ]
     },
     "metadata": {
      "needs_background": "light"
     },
     "output_type": "display_data"
    }
   ],
   "source": [
    "corr = data.corr()\n",
    "sns.heatmap(corr, annot=True)"
   ]
  },
  {
   "cell_type": "markdown",
   "id": "8d3e58b5",
   "metadata": {},
   "source": [
    "# training testing"
   ]
  },
  {
   "cell_type": "code",
   "execution_count": 111,
   "id": "67ece7d1",
   "metadata": {},
   "outputs": [],
   "source": [
    "X = data.iloc[:,:-1]\n",
    "y = data.iloc[:,-1]"
   ]
  },
  {
   "cell_type": "code",
   "execution_count": 177,
   "id": "b4bf07a2",
   "metadata": {},
   "outputs": [],
   "source": [
    "# X\n",
    "# y"
   ]
  },
  {
   "cell_type": "markdown",
   "id": "b7b2f0e4",
   "metadata": {},
   "source": [
    "### Logistic Regression model is used here"
   ]
  },
  {
   "cell_type": "code",
   "execution_count": 135,
   "id": "4ec72423",
   "metadata": {},
   "outputs": [],
   "source": [
    "scalar_features = StandardScaler().fit_transform(X)\n",
    "X_train,X_test,y_train,y_test = train_test_split(scalar_features, y, test_size = 0.3, random_state = 0)\n",
    "model = LogisticRegression().fit(X_train,y_train)"
   ]
  },
  {
   "cell_type": "code",
   "execution_count": 136,
   "id": "c0895836",
   "metadata": {},
   "outputs": [],
   "source": [
    "y_pred = model.predict(X_test)"
   ]
  },
  {
   "cell_type": "code",
   "execution_count": 137,
   "id": "8c7aa755",
   "metadata": {},
   "outputs": [
    {
     "data": {
      "text/plain": [
       "array([0, 0, 0, 0, 0, 0, 1, 1, 0, 0, 1, 1, 0, 0, 1, 0, 1, 0, 0, 0, 0, 0,\n",
       "       0, 0, 0, 0, 0, 1, 0, 0, 1, 0, 0, 0, 0, 0, 1, 0, 0, 0, 0, 0, 0, 0,\n",
       "       0, 0, 0, 0, 1, 0, 0, 0, 1, 0, 0, 0, 0, 0, 0, 0, 0, 0, 0, 0, 0, 1,\n",
       "       0, 0, 0, 0, 0, 0, 0, 0, 0, 0, 1, 1, 0, 0, 0, 0, 0, 0, 0, 0, 0, 0,\n",
       "       1, 0, 0, 0, 0, 0, 0, 0, 1, 0, 0, 0, 0, 0, 0, 0, 1, 1, 0, 0, 0, 0,\n",
       "       0, 1, 0, 0, 0, 0, 0, 0, 0, 1, 0, 0, 0, 1, 0, 0, 0, 0, 0, 0, 0, 0,\n",
       "       0, 0, 1, 1, 0, 0, 0, 0, 0, 0, 0, 0, 0, 0, 0, 0, 0, 0, 0, 0, 0, 0,\n",
       "       1, 0, 0, 0, 0, 1, 1, 0, 0, 0, 0, 0, 0, 0, 0, 0, 0, 1, 0, 0, 0, 0,\n",
       "       0, 0, 0, 0, 0, 0, 0, 0, 1, 0, 0, 0, 0, 0, 0, 0, 0, 0, 0, 1, 1, 0,\n",
       "       0, 0, 0, 0, 1, 0, 0, 0, 0, 0, 0, 0, 0, 0, 1, 0, 0, 0, 0, 0, 0, 0,\n",
       "       0, 0, 1, 0, 0, 1, 1, 1, 0, 0, 1], dtype=int64)"
      ]
     },
     "execution_count": 137,
     "metadata": {},
     "output_type": "execute_result"
    }
   ],
   "source": [
    "y_pred"
   ]
  },
  {
   "cell_type": "code",
   "execution_count": 138,
   "id": "d83266aa",
   "metadata": {},
   "outputs": [],
   "source": [
    "y_pred_probability = model.predict_proba(X_test)"
   ]
  },
  {
   "cell_type": "code",
   "execution_count": null,
   "id": "7b9ff1ba",
   "metadata": {},
   "outputs": [],
   "source": [
    "ypred = model.predict(X_test)\n",
    "print(ypred)\n",
    "ypred_lis = []\n",
    "for i in ypred:\n",
    "    if i>0.45:\n",
    "        ypred_lis.append(1)\n",
    "    else:\n",
    "        ypred_lis.append(0)\n",
    "print(ypred_lis)"
   ]
  },
  {
   "cell_type": "code",
   "execution_count": 139,
   "id": "e8f4dcfc",
   "metadata": {},
   "outputs": [
    {
     "data": {
      "text/plain": [
       "array([[0.67548418, 0.32451582],\n",
       "       [0.6679935 , 0.3320065 ],\n",
       "       [0.70047311, 0.29952689],\n",
       "       [0.54628441, 0.45371559],\n",
       "       [0.73353103, 0.26646897],\n",
       "       [0.7540426 , 0.2459574 ],\n",
       "       [0.31357029, 0.68642971],\n",
       "       [0.42687616, 0.57312384],\n",
       "       [0.67633958, 0.32366042],\n",
       "       [0.55737684, 0.44262316],\n",
       "       [0.4743946 , 0.5256054 ],\n",
       "       [0.39374224, 0.60625776],\n",
       "       [0.58065199, 0.41934801],\n",
       "       [0.67378559, 0.32621441],\n",
       "       [0.47753667, 0.52246333],\n",
       "       [0.66138234, 0.33861766],\n",
       "       [0.37451463, 0.62548537],\n",
       "       [0.78070954, 0.21929046],\n",
       "       [0.62524331, 0.37475669],\n",
       "       [0.56664403, 0.43335597],\n",
       "       [0.58582776, 0.41417224],\n",
       "       [0.67665409, 0.32334591],\n",
       "       [0.6034302 , 0.3965698 ],\n",
       "       [0.70306951, 0.29693049],\n",
       "       [0.69828892, 0.30171108],\n",
       "       [0.67854204, 0.32145796],\n",
       "       [0.75069476, 0.24930524],\n",
       "       [0.37664987, 0.62335013],\n",
       "       [0.72423896, 0.27576104],\n",
       "       [0.69958088, 0.30041912],\n",
       "       [0.4605541 , 0.5394459 ],\n",
       "       [0.66565523, 0.33434477],\n",
       "       [0.67369919, 0.32630081],\n",
       "       [0.51325961, 0.48674039],\n",
       "       [0.77758788, 0.22241212],\n",
       "       [0.73611463, 0.26388537],\n",
       "       [0.43282251, 0.56717749],\n",
       "       [0.71793502, 0.28206498],\n",
       "       [0.694336  , 0.305664  ],\n",
       "       [0.69127156, 0.30872844],\n",
       "       [0.66607701, 0.33392299],\n",
       "       [0.68448115, 0.31551885],\n",
       "       [0.56540067, 0.43459933],\n",
       "       [0.69734672, 0.30265328],\n",
       "       [0.70048389, 0.29951611],\n",
       "       [0.70830631, 0.29169369],\n",
       "       [0.73697727, 0.26302273],\n",
       "       [0.6883098 , 0.3116902 ],\n",
       "       [0.43769918, 0.56230082],\n",
       "       [0.66435999, 0.33564001],\n",
       "       [0.5765939 , 0.4234061 ],\n",
       "       [0.70382848, 0.29617152],\n",
       "       [0.2791391 , 0.7208609 ],\n",
       "       [0.52278236, 0.47721764],\n",
       "       [0.70232942, 0.29767058],\n",
       "       [0.78507247, 0.21492753],\n",
       "       [0.72394426, 0.27605574],\n",
       "       [0.71925365, 0.28074635],\n",
       "       [0.71343072, 0.28656928],\n",
       "       [0.57209518, 0.42790482],\n",
       "       [0.50200557, 0.49799443],\n",
       "       [0.63614847, 0.36385153],\n",
       "       [0.82270238, 0.17729762],\n",
       "       [0.66788405, 0.33211595],\n",
       "       [0.73508312, 0.26491688],\n",
       "       [0.36749405, 0.63250595],\n",
       "       [0.58936966, 0.41063034],\n",
       "       [0.75495717, 0.24504283],\n",
       "       [0.56749822, 0.43250178],\n",
       "       [0.53501862, 0.46498138],\n",
       "       [0.79474195, 0.20525805],\n",
       "       [0.66919396, 0.33080604],\n",
       "       [0.76541892, 0.23458108],\n",
       "       [0.63725194, 0.36274806],\n",
       "       [0.67881723, 0.32118277],\n",
       "       [0.73290621, 0.26709379],\n",
       "       [0.49971979, 0.50028021],\n",
       "       [0.40997496, 0.59002504],\n",
       "       [0.67861798, 0.32138202],\n",
       "       [0.73276159, 0.26723841],\n",
       "       [0.64754916, 0.35245084],\n",
       "       [0.63339017, 0.36660983],\n",
       "       [0.58706066, 0.41293934],\n",
       "       [0.74270703, 0.25729297],\n",
       "       [0.65864803, 0.34135197],\n",
       "       [0.73626972, 0.26373028],\n",
       "       [0.72212179, 0.27787821],\n",
       "       [0.73213984, 0.26786016],\n",
       "       [0.47950112, 0.52049888],\n",
       "       [0.73478834, 0.26521166],\n",
       "       [0.76563221, 0.23436779],\n",
       "       [0.77009274, 0.22990726],\n",
       "       [0.63045859, 0.36954141],\n",
       "       [0.71465455, 0.28534545],\n",
       "       [0.68711956, 0.31288044],\n",
       "       [0.64195363, 0.35804637],\n",
       "       [0.39140866, 0.60859134],\n",
       "       [0.73713601, 0.26286399],\n",
       "       [0.53496701, 0.46503299],\n",
       "       [0.70408014, 0.29591986],\n",
       "       [0.76641304, 0.23358696],\n",
       "       [0.64187834, 0.35812166],\n",
       "       [0.74641354, 0.25358646],\n",
       "       [0.75258142, 0.24741858],\n",
       "       [0.46388992, 0.53611008],\n",
       "       [0.43252535, 0.56747465],\n",
       "       [0.69466739, 0.30533261],\n",
       "       [0.76882775, 0.23117225],\n",
       "       [0.71781399, 0.28218601],\n",
       "       [0.51347865, 0.48652135],\n",
       "       [0.5953424 , 0.4046576 ],\n",
       "       [0.4903035 , 0.5096965 ],\n",
       "       [0.66339058, 0.33660942],\n",
       "       [0.66260388, 0.33739612],\n",
       "       [0.67834365, 0.32165635],\n",
       "       [0.68029913, 0.31970087],\n",
       "       [0.59172754, 0.40827246],\n",
       "       [0.66590452, 0.33409548],\n",
       "       [0.78615107, 0.21384893],\n",
       "       [0.28718865, 0.71281135],\n",
       "       [0.65331572, 0.34668428],\n",
       "       [0.61437513, 0.38562487],\n",
       "       [0.68005556, 0.31994444],\n",
       "       [0.47226855, 0.52773145],\n",
       "       [0.74950091, 0.25049909],\n",
       "       [0.78848137, 0.21151863],\n",
       "       [0.59512098, 0.40487902],\n",
       "       [0.53401842, 0.46598158],\n",
       "       [0.70338066, 0.29661934],\n",
       "       [0.76142901, 0.23857099],\n",
       "       [0.56390938, 0.43609062],\n",
       "       [0.64431234, 0.35568766],\n",
       "       [0.72812665, 0.27187335],\n",
       "       [0.57769521, 0.42230479],\n",
       "       [0.44761273, 0.55238727],\n",
       "       [0.39633907, 0.60366093],\n",
       "       [0.77871174, 0.22128826],\n",
       "       [0.55821901, 0.44178099],\n",
       "       [0.63230527, 0.36769473],\n",
       "       [0.73344365, 0.26655635],\n",
       "       [0.75902186, 0.24097814],\n",
       "       [0.62922366, 0.37077634],\n",
       "       [0.80822327, 0.19177673],\n",
       "       [0.62133551, 0.37866449],\n",
       "       [0.65660158, 0.34339842],\n",
       "       [0.71531117, 0.28468883],\n",
       "       [0.63722974, 0.36277026],\n",
       "       [0.60046663, 0.39953337],\n",
       "       [0.54667869, 0.45332131],\n",
       "       [0.53220593, 0.46779407],\n",
       "       [0.66668803, 0.33331197],\n",
       "       [0.6358559 , 0.3641441 ],\n",
       "       [0.74395165, 0.25604835],\n",
       "       [0.58693956, 0.41306044],\n",
       "       [0.4421146 , 0.5578854 ],\n",
       "       [0.63716856, 0.36283144],\n",
       "       [0.71124002, 0.28875998],\n",
       "       [0.59529537, 0.40470463],\n",
       "       [0.6493844 , 0.3506156 ],\n",
       "       [0.45207445, 0.54792555],\n",
       "       [0.47217601, 0.52782399],\n",
       "       [0.71395308, 0.28604692],\n",
       "       [0.74017952, 0.25982048],\n",
       "       [0.61131086, 0.38868914],\n",
       "       [0.58917639, 0.41082361],\n",
       "       [0.83334505, 0.16665495],\n",
       "       [0.75222738, 0.24777262],\n",
       "       [0.75785917, 0.24214083],\n",
       "       [0.77620565, 0.22379435],\n",
       "       [0.82420718, 0.17579282],\n",
       "       [0.69091792, 0.30908208],\n",
       "       [0.39760062, 0.60239938],\n",
       "       [0.65763812, 0.34236188],\n",
       "       [0.78861452, 0.21138548],\n",
       "       [0.73875721, 0.26124279],\n",
       "       [0.59965255, 0.40034745],\n",
       "       [0.56684723, 0.43315277],\n",
       "       [0.6377802 , 0.3622198 ],\n",
       "       [0.70896853, 0.29103147],\n",
       "       [0.76785732, 0.23214268],\n",
       "       [0.70182541, 0.29817459],\n",
       "       [0.73535582, 0.26464418],\n",
       "       [0.61914463, 0.38085537],\n",
       "       [0.70061155, 0.29938845],\n",
       "       [0.48495705, 0.51504295],\n",
       "       [0.62387269, 0.37612731],\n",
       "       [0.81170962, 0.18829038],\n",
       "       [0.65470456, 0.34529544],\n",
       "       [0.65072678, 0.34927322],\n",
       "       [0.58592436, 0.41407564],\n",
       "       [0.75196621, 0.24803379],\n",
       "       [0.64308437, 0.35691563],\n",
       "       [0.63306276, 0.36693724],\n",
       "       [0.71649445, 0.28350555],\n",
       "       [0.74658271, 0.25341729],\n",
       "       [0.32423164, 0.67576836],\n",
       "       [0.35982695, 0.64017305],\n",
       "       [0.66019578, 0.33980422],\n",
       "       [0.84316648, 0.15683352],\n",
       "       [0.59400831, 0.40599169],\n",
       "       [0.77352337, 0.22647663],\n",
       "       [0.76965256, 0.23034744],\n",
       "       [0.42971684, 0.57028316],\n",
       "       [0.66893931, 0.33106069],\n",
       "       [0.66466726, 0.33533274],\n",
       "       [0.69174689, 0.30825311],\n",
       "       [0.6059693 , 0.3940307 ],\n",
       "       [0.70483061, 0.29516939],\n",
       "       [0.68931518, 0.31068482],\n",
       "       [0.73959402, 0.26040598],\n",
       "       [0.77098251, 0.22901749],\n",
       "       [0.71059091, 0.28940909],\n",
       "       [0.46523324, 0.53476676],\n",
       "       [0.80964536, 0.19035464],\n",
       "       [0.70783307, 0.29216693],\n",
       "       [0.55330909, 0.44669091],\n",
       "       [0.54691619, 0.45308381],\n",
       "       [0.75989285, 0.24010715],\n",
       "       [0.81450598, 0.18549402],\n",
       "       [0.68120402, 0.31879598],\n",
       "       [0.75288868, 0.24711132],\n",
       "       [0.78823775, 0.21176225],\n",
       "       [0.49247876, 0.50752124],\n",
       "       [0.59155819, 0.40844181],\n",
       "       [0.69173872, 0.30826128],\n",
       "       [0.43746479, 0.56253521],\n",
       "       [0.48415536, 0.51584464],\n",
       "       [0.40605353, 0.59394647],\n",
       "       [0.75640154, 0.24359846],\n",
       "       [0.80643429, 0.19356571],\n",
       "       [0.42463878, 0.57536122]])"
      ]
     },
     "execution_count": 139,
     "metadata": {},
     "output_type": "execute_result"
    }
   ],
   "source": [
    "y_pred_probability"
   ]
  },
  {
   "cell_type": "code",
   "execution_count": 182,
   "id": "b8261c67",
   "metadata": {},
   "outputs": [
    {
     "name": "stdout",
     "output_type": "stream",
     "text": [
      "[[144  13]\n",
      " [ 50  24]]\n",
      "0.43243243243243246\n",
      "              precision    recall  f1-score   support\n",
      "\n",
      "           0       0.74      0.92      0.82       157\n",
      "           1       0.65      0.32      0.43        74\n",
      "\n",
      "    accuracy                           0.73       231\n",
      "   macro avg       0.70      0.62      0.63       231\n",
      "weighted avg       0.71      0.73      0.70       231\n",
      "\n"
     ]
    }
   ],
   "source": [
    "cm = confusion_matrix(y_test, y_pred)\n",
    "print (cm)\n",
    "print(f1_score(y_test, y_pred))\n",
    "print(classification_report(y_test,y_pred))"
   ]
  },
  {
   "cell_type": "markdown",
   "id": "d5a9a3f8",
   "metadata": {},
   "source": [
    "### KNN is used here as another model for training testing purpose"
   ]
  },
  {
   "cell_type": "code",
   "execution_count": 188,
   "id": "eb89eb3c",
   "metadata": {},
   "outputs": [
    {
     "name": "stderr",
     "output_type": "stream",
     "text": [
      "C:\\Users\\DELL\\anaconda3\\lib\\site-packages\\sklearn\\cluster\\_kmeans.py:1036: UserWarning: KMeans is known to have a memory leak on Windows with MKL, when there are less chunks than available threads. You can avoid it by setting the environment variable OMP_NUM_THREADS=3.\n",
      "  warnings.warn(\n"
     ]
    },
    {
     "data": {
      "image/png": "[encoded data removed]",
      "text/plain": [
       "<Figure size 432x288 with 1 Axes>"
      ]
     },
     "metadata": {
      "needs_background": "light"
     },
     "output_type": "display_data"
    }
   ],
   "source": [
    "# Running KMeans models to create chart for elbow method\n",
    "\n",
    "from sklearn.cluster import KMeans\n",
    "ks = range(1, 50)    # varying cluster values from 1 to 10\n",
    "inertias = []\n",
    "\n",
    "for k in ks:\n",
    "    model = KMeans(n_clusters=k)\n",
    "    model.fit(X_train,y_train)\n",
    "    inertias.append(model.inertia_)\n",
    "    \n",
    "# Plot ks vs inertias, to apply elbow method\n",
    "plt.plot(ks, inertias, '-o')\n",
    "plt.xlabel('number of clusters, k')\n",
    "plt.ylabel('inertia')\n",
    "plt.xticks(ks)\n",
    "plt.show()"
   ]
  },
  {
   "cell_type": "code",
   "execution_count": null,
   "id": "b5c04147",
   "metadata": {},
   "outputs": [],
   "source": []
  },
  {
   "cell_type": "code",
   "execution_count": null,
   "id": "48bb0b4f",
   "metadata": {},
   "outputs": [],
   "source": []
  },
  {
   "cell_type": "code",
   "execution_count": 193,
   "id": "1a5d660d",
   "metadata": {},
   "outputs": [
    {
     "name": "stdout",
     "output_type": "stream",
     "text": [
      "[[134  23]\n",
      " [ 47  27]]\n",
      "0.43548387096774194\n",
      "              precision    recall  f1-score   support\n",
      "\n",
      "           0       0.74      0.85      0.79       157\n",
      "           1       0.54      0.36      0.44        74\n",
      "\n",
      "    accuracy                           0.70       231\n",
      "   macro avg       0.64      0.61      0.61       231\n",
      "weighted avg       0.68      0.70      0.68       231\n",
      "\n"
     ]
    }
   ],
   "source": [
    "# k25\n",
    "df_range = range(1,100)\n",
    "for k in df_range:\n",
    "    kNNm = KNeighborsClassifier(n_neighbors=k)\n",
    "    kNNm.fit(X_train,y_train)\n",
    "    knn_pred = kNNm.predict(X_test)\n",
    "    knn_accuracy = round(metrics.accuracy_score(y_test, knn_pred)*100, 2)\n",
    "    cm = confusion_matrix(y_test, knn_pred)\n",
    "    print (cm)\n",
    "    print(f1_score(y_test, knn_pred))\n",
    "    print(classification_report(y_test,knn_pred))"
   ]
  },
  {
   "cell_type": "code",
   "execution_count": 194,
   "id": "3c019da8",
   "metadata": {},
   "outputs": [
    {
     "name": "stdout",
     "output_type": "stream",
     "text": [
      "[[134  23]\n",
      " [ 47  27]]\n",
      "0.43548387096774194\n",
      "              precision    recall  f1-score   support\n",
      "\n",
      "           0       0.74      0.85      0.79       157\n",
      "           1       0.54      0.36      0.44        74\n",
      "\n",
      "    accuracy                           0.70       231\n",
      "   macro avg       0.64      0.61      0.61       231\n",
      "weighted avg       0.68      0.70      0.68       231\n",
      "\n"
     ]
    }
   ],
   "source": [
    "kNNm = KNeighborsClassifier(n_neighbors=11)\n",
    "kNNm.fit(X_train,y_train)\n",
    "knn_pred = kNNm.predict(X_test)\n",
    "knn_accuracy = round(metrics.accuracy_score(y_test, knn_pred)*100, 2)\n",
    "cm = confusion_matrix(y_test, knn_pred)\n",
    "print (cm)\n",
    "print(f1_score(y_test, knn_pred))\n",
    "print(classification_report(y_test,knn_pred))"
   ]
  },
  {
   "cell_type": "code",
   "execution_count": 195,
   "id": "04f59fe2",
   "metadata": {},
   "outputs": [
    {
     "data": {
      "text/plain": [
       "0.2727272727272727"
      ]
     },
     "execution_count": 195,
     "metadata": {},
     "output_type": "execute_result"
    }
   ],
   "source": [
    "mean_squared_error(y_test, y_pred) "
   ]
  },
  {
   "cell_type": "markdown",
   "id": "c0918298",
   "metadata": {},
   "source": [
    "# keras"
   ]
  },
  {
   "cell_type": "code",
   "execution_count": 197,
   "id": "be3e5c85",
   "metadata": {},
   "outputs": [],
   "source": [
    "import tensorflow as tf\n",
    "from tensorflow import keras\n",
    "import seaborn as sb"
   ]
  },
  {
   "cell_type": "code",
   "execution_count": 198,
   "id": "f9a95932",
   "metadata": {},
   "outputs": [
    {
     "name": "stdout",
     "output_type": "stream",
     "text": [
      "(537, 4)\n",
      "(231, 4)\n"
     ]
    }
   ],
   "source": [
    "print(X_train.shape)\n",
    "print(X_test.shape)"
   ]
  },
  {
   "cell_type": "code",
   "execution_count": 199,
   "id": "7d4329c4",
   "metadata": {},
   "outputs": [],
   "source": [
    "# define sequential model\n",
    "model = keras.Sequential([\n",
    "    # input layer\n",
    "    keras.layers.Dense(19, input_shape=(4,), activation='relu'),\n",
    "    keras.layers.Dense(15, activation='relu'),\n",
    "    # output layer\n",
    "    keras.layers.Dense(1, activation='sigmoid')\n",
    "]\n",
    ")"
   ]
  },
  {
   "cell_type": "code",
   "execution_count": 200,
   "id": "46dc149d",
   "metadata": {},
   "outputs": [
    {
     "name": "stdout",
     "output_type": "stream",
     "text": [
      "Epoch 1/31\n",
      "17/17 [==============================] - 2s 3ms/step - loss: 0.7574 - accuracy: 0.4339\n",
      "Epoch 2/31\n",
      "17/17 [==============================] - 0s 4ms/step - loss: 0.6973 - accuracy: 0.5549\n",
      "Epoch 3/31\n",
      "17/17 [==============================] - 0s 4ms/step - loss: 0.6647 - accuracy: 0.6127\n",
      "Epoch 4/31\n",
      "17/17 [==============================] - 0s 4ms/step - loss: 0.6511 - accuracy: 0.6555\n",
      "Epoch 5/31\n",
      "17/17 [==============================] - 0s 4ms/step - loss: 0.6417 - accuracy: 0.6462\n",
      "Epoch 6/31\n",
      "17/17 [==============================] - 0s 3ms/step - loss: 0.6372 - accuracy: 0.6592\n",
      "Epoch 7/31\n",
      "17/17 [==============================] - 0s 4ms/step - loss: 0.6339 - accuracy: 0.6574\n",
      "Epoch 8/31\n",
      "17/17 [==============================] - 0s 3ms/step - loss: 0.6319 - accuracy: 0.6629\n",
      "Epoch 9/31\n",
      "17/17 [==============================] - 0s 4ms/step - loss: 0.6302 - accuracy: 0.6704\n",
      "Epoch 10/31\n",
      "17/17 [==============================] - 0s 3ms/step - loss: 0.6284 - accuracy: 0.6723\n",
      "Epoch 11/31\n",
      "17/17 [==============================] - 0s 3ms/step - loss: 0.6275 - accuracy: 0.6685\n",
      "Epoch 12/31\n",
      "17/17 [==============================] - 0s 3ms/step - loss: 0.6270 - accuracy: 0.6667\n",
      "Epoch 13/31\n",
      "17/17 [==============================] - 0s 3ms/step - loss: 0.6252 - accuracy: 0.6667\n",
      "Epoch 14/31\n",
      "17/17 [==============================] - 0s 3ms/step - loss: 0.6238 - accuracy: 0.6685\n",
      "Epoch 15/31\n",
      "17/17 [==============================] - 0s 3ms/step - loss: 0.6231 - accuracy: 0.6629\n",
      "Epoch 16/31\n",
      "17/17 [==============================] - 0s 3ms/step - loss: 0.6217 - accuracy: 0.6648\n",
      "Epoch 17/31\n",
      "17/17 [==============================] - 0s 4ms/step - loss: 0.6208 - accuracy: 0.6685\n",
      "Epoch 18/31\n",
      "17/17 [==============================] - 0s 3ms/step - loss: 0.6199 - accuracy: 0.6685\n",
      "Epoch 19/31\n",
      "17/17 [==============================] - 0s 3ms/step - loss: 0.6193 - accuracy: 0.6648\n",
      "Epoch 20/31\n",
      "17/17 [==============================] - 0s 4ms/step - loss: 0.6185 - accuracy: 0.6629\n",
      "Epoch 21/31\n",
      "17/17 [==============================] - 0s 3ms/step - loss: 0.6186 - accuracy: 0.6629\n",
      "Epoch 22/31\n",
      "17/17 [==============================] - 0s 3ms/step - loss: 0.6176 - accuracy: 0.6629\n",
      "Epoch 23/31\n",
      "17/17 [==============================] - 0s 2ms/step - loss: 0.6165 - accuracy: 0.6685\n",
      "Epoch 24/31\n",
      "17/17 [==============================] - 0s 3ms/step - loss: 0.6162 - accuracy: 0.6592\n",
      "Epoch 25/31\n",
      "17/17 [==============================] - 0s 3ms/step - loss: 0.6158 - accuracy: 0.6667\n",
      "Epoch 26/31\n",
      "17/17 [==============================] - 0s 2ms/step - loss: 0.6153 - accuracy: 0.6648\n",
      "Epoch 27/31\n",
      "17/17 [==============================] - 0s 2ms/step - loss: 0.6149 - accuracy: 0.6648\n",
      "Epoch 28/31\n",
      "17/17 [==============================] - 0s 2ms/step - loss: 0.6144 - accuracy: 0.6723\n",
      "Epoch 29/31\n",
      "17/17 [==============================] - 0s 3ms/step - loss: 0.6132 - accuracy: 0.6741\n",
      "Epoch 30/31\n",
      "17/17 [==============================] - 0s 2ms/step - loss: 0.6128 - accuracy: 0.6685\n",
      "Epoch 31/31\n",
      "17/17 [==============================] - 0s 3ms/step - loss: 0.6123 - accuracy: 0.6704\n"
     ]
    },
    {
     "data": {
      "text/plain": [
       "<keras.callbacks.History at 0x2281024bcd0>"
      ]
     },
     "execution_count": 200,
     "metadata": {},
     "output_type": "execute_result"
    }
   ],
   "source": [
    "model.compile(optimizer = 'adam',\n",
    "             loss = 'binary_crossentropy',\n",
    "             metrics = ['accuracy'])\n",
    "model.fit(X_train,y_train,epochs=31)"
   ]
  },
  {
   "cell_type": "code",
   "execution_count": 202,
   "id": "6cd75ad9",
   "metadata": {},
   "outputs": [
    {
     "name": "stdout",
     "output_type": "stream",
     "text": [
      "8/8 [==============================] - 0s 3ms/step - loss: 0.5792 - accuracy: 0.7143\n"
     ]
    },
    {
     "data": {
      "text/plain": [
       "[0.5792137384414673, 0.7142857313156128]"
      ]
     },
     "execution_count": 202,
     "metadata": {},
     "output_type": "execute_result"
    }
   ],
   "source": [
    "model.evaluate(X_test,y_test)"
   ]
  },
  {
   "cell_type": "code",
   "execution_count": 203,
   "id": "4150c52d",
   "metadata": {},
   "outputs": [
    {
     "name": "stdout",
     "output_type": "stream",
     "text": [
      "8/8 [==============================] - 0s 2ms/step\n",
      "[[0.33797228]\n",
      " [0.3787188 ]\n",
      " [0.35419226]\n",
      " [0.48389748]\n",
      " [0.2290961 ]\n",
      " [0.22031744]\n",
      " [0.6870554 ]\n",
      " [0.4639047 ]\n",
      " [0.3370672 ]\n",
      " [0.46398148]\n",
      " [0.55567443]\n",
      " [0.5016068 ]\n",
      " [0.39720315]\n",
      " [0.3791832 ]\n",
      " [0.6252311 ]\n",
      " [0.26601306]\n",
      " [0.6967948 ]\n",
      " [0.19721106]\n",
      " [0.37199262]\n",
      " [0.47376516]\n",
      " [0.45864344]\n",
      " [0.30185974]\n",
      " [0.35524556]\n",
      " [0.23937705]\n",
      " [0.3541988 ]\n",
      " [0.31256667]\n",
      " [0.23121925]\n",
      " [0.59130836]\n",
      " [0.23919034]\n",
      " [0.35119992]\n",
      " [0.52267605]\n",
      " [0.4116529 ]\n",
      " [0.26607528]\n",
      " [0.50255376]\n",
      " [0.22197077]\n",
      " [0.27887088]\n",
      " [0.4004913 ]\n",
      " [0.28498706]\n",
      " [0.3477372 ]\n",
      " [0.2987528 ]\n",
      " [0.26366937]\n",
      " [0.33755198]\n",
      " [0.45477012]\n",
      " [0.2390757 ]\n",
      " [0.28319702]\n",
      " [0.2454405 ]\n",
      " [0.21109216]\n",
      " [0.32047457]\n",
      " [0.6179906 ]\n",
      " [0.355912  ]\n",
      " [0.43765047]\n",
      " [0.2855285 ]\n",
      " [0.80237687]\n",
      " [0.54754114]\n",
      " [0.42881784]\n",
      " [0.1641703 ]\n",
      " [0.24351035]\n",
      " [0.3137557 ]\n",
      " [0.3095192 ]\n",
      " [0.4472568 ]\n",
      " [0.4378642 ]\n",
      " [0.3782478 ]\n",
      " [0.17262004]\n",
      " [0.21611623]\n",
      " [0.31685004]\n",
      " [0.5889945 ]\n",
      " [0.4455649 ]\n",
      " [0.28449577]\n",
      " [0.4813019 ]\n",
      " [0.49368274]\n",
      " [0.22949164]\n",
      " [0.3360461 ]\n",
      " [0.18855225]\n",
      " [0.4094902 ]\n",
      " [0.35652798]\n",
      " [0.3191252 ]\n",
      " [0.4487571 ]\n",
      " [0.5482714 ]\n",
      " [0.31914362]\n",
      " [0.21631946]\n",
      " [0.35260403]\n",
      " [0.48227057]\n",
      " [0.39463076]\n",
      " [0.2510231 ]\n",
      " [0.283254  ]\n",
      " [0.31542325]\n",
      " [0.33497062]\n",
      " [0.2562043 ]\n",
      " [0.5047423 ]\n",
      " [0.2958198 ]\n",
      " [0.16958691]\n",
      " [0.25710317]\n",
      " [0.33941397]\n",
      " [0.29762775]\n",
      " [0.37847504]\n",
      " [0.37702852]\n",
      " [0.68642944]\n",
      " [0.27006894]\n",
      " [0.5714182 ]\n",
      " [0.3529934 ]\n",
      " [0.20136115]\n",
      " [0.3249156 ]\n",
      " [0.29866886]\n",
      " [0.23179477]\n",
      " [0.5336389 ]\n",
      " [0.5578283 ]\n",
      " [0.3391065 ]\n",
      " [0.18487713]\n",
      " [0.31198132]\n",
      " [0.5242678 ]\n",
      " [0.36475173]\n",
      " [0.40709072]\n",
      " [0.3126998 ]\n",
      " [0.39519092]\n",
      " [0.2989923 ]\n",
      " [0.31451142]\n",
      " [0.30646572]\n",
      " [0.2841571 ]\n",
      " [0.16615275]\n",
      " [0.71299934]\n",
      " [0.25003466]\n",
      " [0.35132596]\n",
      " [0.3225413 ]\n",
      " [0.55607736]\n",
      " [0.22640358]\n",
      " [0.23651697]\n",
      " [0.42302132]\n",
      " [0.5533617 ]\n",
      " [0.26455185]\n",
      " [0.27273563]\n",
      " [0.48753878]\n",
      " [0.3962408 ]\n",
      " [0.23366696]\n",
      " [0.45226723]\n",
      " [0.60869926]\n",
      " [0.757046  ]\n",
      " [0.17143942]\n",
      " [0.5049395 ]\n",
      " [0.32780063]\n",
      " [0.31558946]\n",
      " [0.2404594 ]\n",
      " [0.41508904]\n",
      " [0.20264205]\n",
      " [0.4257761 ]\n",
      " [0.36906502]\n",
      " [0.26668283]\n",
      " [0.36923596]\n",
      " [0.41939092]\n",
      " [0.34707186]\n",
      " [0.54966086]\n",
      " [0.3294091 ]\n",
      " [0.353117  ]\n",
      " [0.2549917 ]\n",
      " [0.36449695]\n",
      " [0.5716699 ]\n",
      " [0.39138588]\n",
      " [0.3192365 ]\n",
      " [0.31133336]\n",
      " [0.3472479 ]\n",
      " [0.60661566]\n",
      " [0.39009306]\n",
      " [0.28509417]\n",
      " [0.2545261 ]\n",
      " [0.32021725]\n",
      " [0.4107459 ]\n",
      " [0.16267976]\n",
      " [0.29069582]\n",
      " [0.2803068 ]\n",
      " [0.25914162]\n",
      " [0.17118274]\n",
      " [0.2699079 ]\n",
      " [0.7432868 ]\n",
      " [0.36678743]\n",
      " [0.22192135]\n",
      " [0.25266996]\n",
      " [0.43079776]\n",
      " [0.48518622]\n",
      " [0.22486725]\n",
      " [0.26071   ]\n",
      " [0.18324721]\n",
      " [0.30865985]\n",
      " [0.31516775]\n",
      " [0.378398  ]\n",
      " [0.3070995 ]\n",
      " [0.40429407]\n",
      " [0.38062367]\n",
      " [0.18213028]\n",
      " [0.39703622]\n",
      " [0.41557556]\n",
      " [0.30241016]\n",
      " [0.2878657 ]\n",
      " [0.2990849 ]\n",
      " [0.34679282]\n",
      " [0.30345008]\n",
      " [0.23123999]\n",
      " [0.7072763 ]\n",
      " [0.7079878 ]\n",
      " [0.2980082 ]\n",
      " [0.15357642]\n",
      " [0.45569557]\n",
      " [0.22740659]\n",
      " [0.3167897 ]\n",
      " [0.51545155]\n",
      " [0.33668303]\n",
      " [0.33214223]\n",
      " [0.32626972]\n",
      " [0.40769064]\n",
      " [0.27860844]\n",
      " [0.3385319 ]\n",
      " [0.2802995 ]\n",
      " [0.18227348]\n",
      " [0.26931685]\n",
      " [0.5373305 ]\n",
      " [0.20124227]\n",
      " [0.2990003 ]\n",
      " [0.38301715]\n",
      " [0.4575317 ]\n",
      " [0.19508652]\n",
      " [0.17997938]\n",
      " [0.2394861 ]\n",
      " [0.2872456 ]\n",
      " [0.16142511]\n",
      " [0.43289798]\n",
      " [0.3137453 ]\n",
      " [0.32625362]\n",
      " [0.56093526]\n",
      " [0.47230592]\n",
      " [0.664726  ]\n",
      " [0.23100942]\n",
      " [0.20440194]\n",
      " [0.6903284 ]]\n",
      "[0, 0, 0, 1, 0, 0, 1, 1, 0, 1, 1, 1, 0, 0, 1, 0, 1, 0, 0, 1, 1, 0, 0, 0, 0, 0, 0, 1, 0, 0, 1, 0, 0, 1, 0, 0, 0, 0, 0, 0, 0, 0, 1, 0, 0, 0, 0, 0, 1, 0, 0, 0, 1, 1, 0, 0, 0, 0, 0, 0, 0, 0, 0, 0, 0, 1, 0, 0, 1, 1, 0, 0, 0, 0, 0, 0, 0, 1, 0, 0, 0, 1, 0, 0, 0, 0, 0, 0, 1, 0, 0, 0, 0, 0, 0, 0, 1, 0, 1, 0, 0, 0, 0, 0, 1, 1, 0, 0, 0, 1, 0, 0, 0, 0, 0, 0, 0, 0, 0, 1, 0, 0, 0, 1, 0, 0, 0, 1, 0, 0, 1, 0, 0, 1, 1, 1, 0, 1, 0, 0, 0, 0, 0, 0, 0, 0, 0, 0, 0, 1, 0, 0, 0, 0, 1, 0, 0, 0, 0, 1, 0, 0, 0, 0, 0, 0, 0, 0, 0, 0, 0, 1, 0, 0, 0, 0, 1, 0, 0, 0, 0, 0, 0, 0, 0, 0, 0, 0, 0, 0, 0, 0, 0, 0, 0, 1, 1, 0, 0, 1, 0, 0, 1, 0, 0, 0, 0, 0, 0, 0, 0, 0, 1, 0, 0, 0, 1, 0, 0, 0, 0, 0, 0, 0, 0, 1, 1, 1, 0, 0, 1]\n"
     ]
    }
   ],
   "source": [
    "ypred = model.predict(X_test)\n",
    "print(ypred)\n",
    "ypred_lis = []\n",
    "for i in ypred:\n",
    "    if i>0.45:\n",
    "        ypred_lis.append(1)\n",
    "    else:\n",
    "        ypred_lis.append(0)\n",
    "print(ypred_lis)"
   ]
  },
  {
   "cell_type": "code",
   "execution_count": 204,
   "id": "9fa35740",
   "metadata": {},
   "outputs": [
    {
     "data": {
      "text/html": [
       "<div>\n",
       "<style scoped>\n",
       "    .dataframe tbody tr th:only-of-type {\n",
       "        vertical-align: middle;\n",
       "    }\n",
       "\n",
       "    .dataframe tbody tr th {\n",
       "        vertical-align: top;\n",
       "    }\n",
       "\n",
       "    .dataframe thead th {\n",
       "        text-align: right;\n",
       "    }\n",
       "</style>\n",
       "<table border=\"1\" class=\"dataframe\">\n",
       "  <thead>\n",
       "    <tr style=\"text-align: right;\">\n",
       "      <th></th>\n",
       "      <th>orignal</th>\n",
       "      <th>predicted</th>\n",
       "    </tr>\n",
       "  </thead>\n",
       "  <tbody>\n",
       "    <tr>\n",
       "      <th>661</th>\n",
       "      <td>1</td>\n",
       "      <td>0</td>\n",
       "    </tr>\n",
       "    <tr>\n",
       "      <th>122</th>\n",
       "      <td>0</td>\n",
       "      <td>0</td>\n",
       "    </tr>\n",
       "    <tr>\n",
       "      <th>113</th>\n",
       "      <td>0</td>\n",
       "      <td>0</td>\n",
       "    </tr>\n",
       "    <tr>\n",
       "      <th>14</th>\n",
       "      <td>1</td>\n",
       "      <td>1</td>\n",
       "    </tr>\n",
       "    <tr>\n",
       "      <th>529</th>\n",
       "      <td>0</td>\n",
       "      <td>0</td>\n",
       "    </tr>\n",
       "    <tr>\n",
       "      <th>...</th>\n",
       "      <td>...</td>\n",
       "      <td>...</td>\n",
       "    </tr>\n",
       "    <tr>\n",
       "      <th>165</th>\n",
       "      <td>1</td>\n",
       "      <td>1</td>\n",
       "    </tr>\n",
       "    <tr>\n",
       "      <th>188</th>\n",
       "      <td>1</td>\n",
       "      <td>1</td>\n",
       "    </tr>\n",
       "    <tr>\n",
       "      <th>334</th>\n",
       "      <td>0</td>\n",
       "      <td>0</td>\n",
       "    </tr>\n",
       "    <tr>\n",
       "      <th>758</th>\n",
       "      <td>0</td>\n",
       "      <td>0</td>\n",
       "    </tr>\n",
       "    <tr>\n",
       "      <th>34</th>\n",
       "      <td>0</td>\n",
       "      <td>1</td>\n",
       "    </tr>\n",
       "  </tbody>\n",
       "</table>\n",
       "<p>231 rows × 2 columns</p>\n",
       "</div>"
      ],
      "text/plain": [
       "     orignal  predicted\n",
       "661        1          0\n",
       "122        0          0\n",
       "113        0          0\n",
       "14         1          1\n",
       "529        0          0\n",
       "..       ...        ...\n",
       "165        1          1\n",
       "188        1          1\n",
       "334        0          0\n",
       "758        0          0\n",
       "34         0          1\n",
       "\n",
       "[231 rows x 2 columns]"
      ]
     },
     "execution_count": 204,
     "metadata": {},
     "output_type": "execute_result"
    }
   ],
   "source": [
    "data = {'orignal':y_test, 'predicted':ypred_lis}\n",
    "df_check = pd.DataFrame(data)\n",
    "df_check"
   ]
  },
  {
   "cell_type": "code",
   "execution_count": 205,
   "id": "447a7a28",
   "metadata": {},
   "outputs": [
    {
     "name": "stdout",
     "output_type": "stream",
     "text": [
      "              precision    recall  f1-score   support\n",
      "\n",
      "           0       0.74      0.85      0.80       157\n",
      "           1       0.55      0.38      0.45        74\n",
      "\n",
      "    accuracy                           0.70       231\n",
      "   macro avg       0.65      0.62      0.62       231\n",
      "weighted avg       0.68      0.70      0.68       231\n",
      "\n"
     ]
    },
    {
     "data": {
      "text/plain": [
       "Text(69.0, 0.5, 'True_number')"
      ]
     },
     "execution_count": 205,
     "metadata": {},
     "output_type": "execute_result"
    },
    {
     "data": {
      "image/png": "[encoded data removed]",
      "text/plain": [
       "<Figure size 720x360 with 2 Axes>"
      ]
     },
     "metadata": {
      "needs_background": "light"
     },
     "output_type": "display_data"
    }
   ],
   "source": [
    "print(classification_report(y_test,ypred_lis))\n",
    "conf_mat = tf.math.confusion_matrix(labels=y_test,predictions=ypred_lis)\n",
    "plt.figure(figsize = (10,5))\n",
    "sb.heatmap(conf_mat, annot=True,fmt='d')\n",
    "plt.xlabel('Predicted_number')\n",
    "plt.ylabel('True_number')"
   ]
  },
  {
   "cell_type": "code",
   "execution_count": null,
   "id": "49a1b4cf",
   "metadata": {},
   "outputs": [],
   "source": []
  }
 ],
 "metadata": {
  "kernelspec": {
   "display_name": "Python 3 (ipykernel)",
   "language": "python",
   "name": "python3"
  },
  "language_info": {
   "codemirror_mode": {
    "name": "ipython",
    "version": 3
   },
   "file_extension": ".py",
   "mimetype": "text/x-python",
   "name": "python",
   "nbconvert_exporter": "python",
   "pygments_lexer": "ipython3",
   "version": "3.9.12"
  }
 },
 "nbformat": 4,
 "nbformat_minor": 5
}
